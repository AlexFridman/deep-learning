{
 "cells": [
  {
   "cell_type": "markdown",
   "metadata": {
    "collapsed": true
   },
   "source": [
    "# Image Classification\n",
    "In this project, you'll classify images from the [CIFAR-10 dataset](https://www.cs.toronto.edu/~kriz/cifar.html).  The dataset consists of airplanes, dogs, cats, and other objects. You'll preprocess the images, then train a convolutional neural network on all the samples. The images need to be normalized and the labels need to be one-hot encoded.  You'll get to apply what you learned and build a convolutional, max pooling, dropout, and fully connected layers.  At the end, you'll get to see your neural network's predictions on the sample images.\n",
    "## Get the Data\n",
    "Run the following cell to download the [CIFAR-10 dataset for python](https://www.cs.toronto.edu/~kriz/cifar-10-python.tar.gz)."
   ]
  },
  {
   "cell_type": "code",
   "execution_count": 1,
   "metadata": {
    "ExecuteTime": {
     "end_time": "2017-08-05T16:15:53.446782Z",
     "start_time": "2017-08-05T16:13:12.431667Z"
    }
   },
   "outputs": [
    {
     "name": "stderr",
     "output_type": "stream",
     "text": [
      "CIFAR-10 Dataset: 171MB [02:38, 1.08MB/s]                              \n"
     ]
    },
    {
     "name": "stdout",
     "output_type": "stream",
     "text": [
      "All files found!\n"
     ]
    }
   ],
   "source": [
    "\"\"\"\n",
    "DON'T MODIFY ANYTHING IN THIS CELL THAT IS BELOW THIS LINE\n",
    "\"\"\"\n",
    "from urllib.request import urlretrieve\n",
    "from os.path import isfile, isdir\n",
    "from tqdm import tqdm\n",
    "import problem_unittests as tests\n",
    "import tarfile\n",
    "\n",
    "cifar10_dataset_folder_path = 'cifar-10-batches-py'\n",
    "\n",
    "# Use Floyd's cifar-10 dataset if present\n",
    "floyd_cifar10_location = '/input/cifar-10/python.tar.gz'\n",
    "if isfile(floyd_cifar10_location):\n",
    "    tar_gz_path = floyd_cifar10_location\n",
    "else:\n",
    "    tar_gz_path = 'cifar-10-python.tar.gz'\n",
    "\n",
    "class DLProgress(tqdm):\n",
    "    last_block = 0\n",
    "\n",
    "    def hook(self, block_num=1, block_size=1, total_size=None):\n",
    "        self.total = total_size\n",
    "        self.update((block_num - self.last_block) * block_size)\n",
    "        self.last_block = block_num\n",
    "\n",
    "if not isfile(tar_gz_path):\n",
    "    with DLProgress(unit='B', unit_scale=True, miniters=1, desc='CIFAR-10 Dataset') as pbar:\n",
    "        urlretrieve(\n",
    "            'https://www.cs.toronto.edu/~kriz/cifar-10-python.tar.gz',\n",
    "            tar_gz_path,\n",
    "            pbar.hook)\n",
    "\n",
    "if not isdir(cifar10_dataset_folder_path):\n",
    "    with tarfile.open(tar_gz_path) as tar:\n",
    "        tar.extractall()\n",
    "        tar.close()\n",
    "\n",
    "\n",
    "tests.test_folder_path(cifar10_dataset_folder_path)"
   ]
  },
  {
   "cell_type": "markdown",
   "metadata": {},
   "source": [
    "## Explore the Data\n",
    "The dataset is broken into batches to prevent your machine from running out of memory.  The CIFAR-10 dataset consists of 5 batches, named `data_batch_1`, `data_batch_2`, etc.. Each batch contains the labels and images that are one of the following:\n",
    "* airplane\n",
    "* automobile\n",
    "* bird\n",
    "* cat\n",
    "* deer\n",
    "* dog\n",
    "* frog\n",
    "* horse\n",
    "* ship\n",
    "* truck\n",
    "\n",
    "Understanding a dataset is part of making predictions on the data.  Play around with the code cell below by changing the `batch_id` and `sample_id`. The `batch_id` is the id for a batch (1-5). The `sample_id` is the id for a image and label pair in the batch.\n",
    "\n",
    "Ask yourself \"What are all possible labels?\", \"What is the range of values for the image data?\", \"Are the labels in order or random?\".  Answers to questions like these will help you preprocess the data and end up with better predictions."
   ]
  },
  {
   "cell_type": "code",
   "execution_count": 2,
   "metadata": {
    "ExecuteTime": {
     "end_time": "2017-08-05T16:15:53.799597Z",
     "start_time": "2017-08-05T16:15:53.448004Z"
    }
   },
   "outputs": [
    {
     "name": "stdout",
     "output_type": "stream",
     "text": [
      "\n",
      "Stats of batch 1:\n",
      "Samples: 10000\n",
      "Label Counts: {0: 1005, 1: 974, 2: 1032, 3: 1016, 4: 999, 5: 937, 6: 1030, 7: 1001, 8: 1025, 9: 981}\n",
      "First 20 Labels: [6, 9, 9, 4, 1, 1, 2, 7, 8, 3, 4, 7, 7, 2, 9, 9, 9, 3, 2, 6]\n",
      "\n",
      "Example of Image 5:\n",
      "Image - Min Value: 0 Max Value: 252\n",
      "Image - Shape: (32, 32, 3)\n",
      "Label - Label Id: 1 Name: automobile\n"
     ]
    },
    {
     "data": {
      "image/png": "[encoded data removed]",
      "text/plain": [
       "<matplotlib.figure.Figure at 0x7f23c98b72e8>"
      ]
     },
     "metadata": {
      "image/png": {
       "height": 250,
       "width": 253
      }
     },
     "output_type": "display_data"
    }
   ],
   "source": [
    "%matplotlib inline\n",
    "%config InlineBackend.figure_format = 'retina'\n",
    "\n",
    "import helper\n",
    "import numpy as np\n",
    "\n",
    "# Explore the dataset\n",
    "batch_id = 1\n",
    "sample_id = 5\n",
    "helper.display_stats(cifar10_dataset_folder_path, batch_id, sample_id)"
   ]
  },
  {
   "cell_type": "markdown",
   "metadata": {},
   "source": [
    "## Implement Preprocess Functions\n",
    "### Normalize\n",
    "In the cell below, implement the `normalize` function to take in image data, `x`, and return it as a normalized Numpy array. The values should be in the range of 0 to 1, inclusive.  The return object should be the same shape as `x`."
   ]
  },
  {
   "cell_type": "code",
   "execution_count": 26,
   "metadata": {
    "ExecuteTime": {
     "end_time": "2017-08-05T16:26:26.801661Z",
     "start_time": "2017-08-05T16:26:26.770578Z"
    }
   },
   "outputs": [
    {
     "name": "stdout",
     "output_type": "stream",
     "text": [
      "Tests Passed\n"
     ]
    }
   ],
   "source": [
    "def normalize(x):\n",
    "    \"\"\"\n",
    "    Normalize a list of sample image data in the range of 0 to 1\n",
    "    : x: List of image data.  The image shape is (32, 32, 3)\n",
    "    : return: Numpy array of normalize data\n",
    "    \"\"\"\n",
    "    # TODO: Implement Function\n",
    "    return np.array([x_i / 256 for x_i in x])\n",
    "\n",
    "\n",
    "\"\"\"\n",
    "DON'T MODIFY ANYTHING IN THIS CELL THAT IS BELOW THIS LINE\n",
    "\"\"\"\n",
    "tests.test_normalize(normalize)"
   ]
  },
  {
   "cell_type": "markdown",
   "metadata": {},
   "source": [
    "### One-hot encode\n",
    "Just like the previous code cell, you'll be implementing a function for preprocessing.  This time, you'll implement the `one_hot_encode` function. The input, `x`, are a list of labels.  Implement the function to return the list of labels as One-Hot encoded Numpy array.  The possible values for labels are 0 to 9. The one-hot encoding function should return the same encoding for each value between each call to `one_hot_encode`.  Make sure to save the map of encodings outside the function.\n",
    "\n",
    "Hint: Don't reinvent the wheel."
   ]
  },
  {
   "cell_type": "code",
   "execution_count": 35,
   "metadata": {
    "ExecuteTime": {
     "end_time": "2017-08-05T16:33:36.837377Z",
     "start_time": "2017-08-05T16:33:36.761006Z"
    }
   },
   "outputs": [
    {
     "name": "stdout",
     "output_type": "stream",
     "text": [
      "Tests Passed\n"
     ]
    }
   ],
   "source": [
    "def build_label_2_idx():\n",
    "    unique_labels = set()\n",
    "    for batch_i in np.arange(1, 5 + 1):\n",
    "        _, labels = helper.load_cfar10_batch(cifar10_dataset_folder_path, 1)\n",
    "        unique_labels.update(labels)\n",
    "    return {label: i for i, label in enumerate(sorted(unique_labels))}\n",
    "\n",
    "label_2_idx = build_label_2_idx()\n",
    "\n",
    "def one_hot_encode(x):\n",
    "    \"\"\"\n",
    "    One hot encode a list of sample labels. Return a one-hot encoded vector for each label.\n",
    "    : x: List of sample Labels\n",
    "    : return: Numpy array of one-hot encoded labels\n",
    "    \"\"\"\n",
    "    # TODO: Implement Function\n",
    "    n = len(x)\n",
    "    one_hot = np.zeros((n, len(label_2_idx)))\n",
    "    one_hot[np.arange(n), [label_2_idx[x_i] for x_i in x]] = 1\n",
    "    return one_hot\n",
    "\n",
    "\n",
    "\"\"\"\n",
    "DON'T MODIFY ANYTHING IN THIS CELL THAT IS BELOW THIS LINE\n",
    "\"\"\"\n",
    "tests.test_one_hot_encode(one_hot_encode)"
   ]
  },
  {
   "cell_type": "markdown",
   "metadata": {},
   "source": [
    "### Randomize Data\n",
    "As you saw from exploring the data above, the order of the samples are randomized.  It doesn't hurt to randomize it again, but you don't need to for this dataset."
   ]
  },
  {
   "cell_type": "markdown",
   "metadata": {},
   "source": [
    "## Preprocess all the data and save it\n",
    "Running the code cell below will preprocess all the CIFAR-10 data and save it to file. The code below also uses 10% of the training data for validation."
   ]
  },
  {
   "cell_type": "code",
   "execution_count": 36,
   "metadata": {
    "ExecuteTime": {
     "end_time": "2017-08-05T16:34:01.432593Z",
     "start_time": "2017-08-05T16:33:55.121180Z"
    },
    "collapsed": true
   },
   "outputs": [],
   "source": [
    "\"\"\"\n",
    "DON'T MODIFY ANYTHING IN THIS CELL\n",
    "\"\"\"\n",
    "# Preprocess Training, Validation, and Testing Data\n",
    "helper.preprocess_and_save_data(cifar10_dataset_folder_path, normalize, one_hot_encode)"
   ]
  },
  {
   "cell_type": "markdown",
   "metadata": {},
   "source": [
    "# Check Point\n",
    "This is your first checkpoint.  If you ever decide to come back to this notebook or have to restart the notebook, you can start from here.  The preprocessed data has been saved to disk."
   ]
  },
  {
   "cell_type": "code",
   "execution_count": 1,
   "metadata": {
    "ExecuteTime": {
     "end_time": "2017-08-05T20:05:56.538634Z",
     "start_time": "2017-08-05T20:05:55.591855Z"
    },
    "collapsed": true
   },
   "outputs": [],
   "source": [
    "\"\"\"\n",
    "DON'T MODIFY ANYTHING IN THIS CELL\n",
    "\"\"\"\n",
    "import pickle\n",
    "import problem_unittests as tests\n",
    "import helper\n",
    "\n",
    "# Load the Preprocessed Validation data\n",
    "valid_features, valid_labels = pickle.load(open('preprocess_validation.p', mode='rb'))"
   ]
  },
  {
   "cell_type": "markdown",
   "metadata": {},
   "source": [
    "## Build the network\n",
    "For the neural network, you'll build each layer into a function.  Most of the code you've seen has been outside of functions. To test your code more thoroughly, we require that you put each layer in a function.  This allows us to give you better feedback and test for simple mistakes using our unittests before you submit your project.\n",
    "\n",
    ">**Note:** If you're finding it hard to dedicate enough time for this course each week, we've provided a small shortcut to this part of the project. In the next couple of problems, you'll have the option to use classes from the [TensorFlow Layers](https://www.tensorflow.org/api_docs/python/tf/layers) or [TensorFlow Layers (contrib)](https://www.tensorflow.org/api_guides/python/contrib.layers) packages to build each layer, except the layers you build in the \"Convolutional and Max Pooling Layer\" section.  TF Layers is similar to Keras's and TFLearn's abstraction to layers, so it's easy to pickup.\n",
    "\n",
    ">However, if you would like to get the most out of this course, try to solve all the problems _without_ using anything from the TF Layers packages. You **can** still use classes from other packages that happen to have the same name as ones you find in TF Layers! For example, instead of using the TF Layers version of the `conv2d` class, [tf.layers.conv2d](https://www.tensorflow.org/api_docs/python/tf/layers/conv2d), you would want to use the TF Neural Network version of `conv2d`, [tf.nn.conv2d](https://www.tensorflow.org/api_docs/python/tf/nn/conv2d). \n",
    "\n",
    "Let's begin!\n",
    "\n",
    "### Input\n",
    "The neural network needs to read the image data, one-hot encoded labels, and dropout keep probability. Implement the following functions\n",
    "* Implement `neural_net_image_input`\n",
    " * Return a [TF Placeholder](https://www.tensorflow.org/api_docs/python/tf/placeholder)\n",
    " * Set the shape using `image_shape` with batch size set to `None`.\n",
    " * Name the TensorFlow placeholder \"x\" using the TensorFlow `name` parameter in the [TF Placeholder](https://www.tensorflow.org/api_docs/python/tf/placeholder).\n",
    "* Implement `neural_net_label_input`\n",
    " * Return a [TF Placeholder](https://www.tensorflow.org/api_docs/python/tf/placeholder)\n",
    " * Set the shape using `n_classes` with batch size set to `None`.\n",
    " * Name the TensorFlow placeholder \"y\" using the TensorFlow `name` parameter in the [TF Placeholder](https://www.tensorflow.org/api_docs/python/tf/placeholder).\n",
    "* Implement `neural_net_keep_prob_input`\n",
    " * Return a [TF Placeholder](https://www.tensorflow.org/api_docs/python/tf/placeholder) for dropout keep probability.\n",
    " * Name the TensorFlow placeholder \"keep_prob\" using the TensorFlow `name` parameter in the [TF Placeholder](https://www.tensorflow.org/api_docs/python/tf/placeholder).\n",
    "\n",
    "These names will be used at the end of the project to load your saved model.\n",
    "\n",
    "Note: `None` for shapes in TensorFlow allow for a dynamic size."
   ]
  },
  {
   "cell_type": "code",
   "execution_count": 139,
   "metadata": {
    "ExecuteTime": {
     "end_time": "2017-08-06T04:35:39.721813Z",
     "start_time": "2017-08-06T04:35:39.701961Z"
    }
   },
   "outputs": [
    {
     "name": "stdout",
     "output_type": "stream",
     "text": [
      "Image Input Tests Passed.\n",
      "Label Input Tests Passed.\n",
      "Keep Prob Tests Passed.\n"
     ]
    }
   ],
   "source": [
    "import tensorflow as tf\n",
    "import numpy as np\n",
    "\n",
    "tf.reset_default_graph()\n",
    "\n",
    "def neural_net_image_input(image_shape):\n",
    "    \"\"\"\n",
    "    Return a Tensor for a batch of image input\n",
    "    : image_shape: Shape of the images\n",
    "    : return: Tensor for image input.\n",
    "    \"\"\"\n",
    "    # TODO: Implement Function\n",
    "    shape = [None] + list(image_shape)\n",
    "    return tf.placeholder(tf.float32, shape=shape, name='x')\n",
    "\n",
    "\n",
    "def neural_net_label_input(n_classes):\n",
    "    \"\"\"\n",
    "    Return a Tensor for a batch of label input\n",
    "    : n_classes: Number of classes\n",
    "    : return: Tensor for label input.\n",
    "    \"\"\"\n",
    "    # TODO: Implement Function\n",
    "    return tf.placeholder(tf.int32, shape=[None, n_classes], name='y')\n",
    "\n",
    "\n",
    "def neural_net_keep_prob_input():\n",
    "    \"\"\"\n",
    "    Return a Tensor for keep probability\n",
    "    : return: Tensor for keep probability.\n",
    "    \"\"\"\n",
    "    # TODO: Implement Function\n",
    "    return tf.placeholder(tf.float32, name='keep_prob')\n",
    "\n",
    "\n",
    "\"\"\"\n",
    "DON'T MODIFY ANYTHING IN THIS CELL THAT IS BELOW THIS LINE\n",
    "\"\"\"\n",
    "tf.reset_default_graph()\n",
    "tests.test_nn_image_inputs(neural_net_image_input)\n",
    "tests.test_nn_label_inputs(neural_net_label_input)\n",
    "tests.test_nn_keep_prob_inputs(neural_net_keep_prob_input)"
   ]
  },
  {
   "cell_type": "markdown",
   "metadata": {},
   "source": [
    "### Convolution and Max Pooling Layer\n",
    "Convolution layers have a lot of success with images. For this code cell, you should implement the function `conv2d_maxpool` to apply convolution then max pooling:\n",
    "* Create the weight and bias using `conv_ksize`, `conv_num_outputs` and the shape of `x_tensor`.\n",
    "* Apply a convolution to `x_tensor` using weight and `conv_strides`.\n",
    " * We recommend you use same padding, but you're welcome to use any padding.\n",
    "* Add bias\n",
    "* Add a nonlinear activation to the convolution.\n",
    "* Apply Max Pooling using `pool_ksize` and `pool_strides`.\n",
    " * We recommend you use same padding, but you're welcome to use any padding.\n",
    "\n",
    "**Note:** You **can't** use [TensorFlow Layers](https://www.tensorflow.org/api_docs/python/tf/layers) or [TensorFlow Layers (contrib)](https://www.tensorflow.org/api_guides/python/contrib.layers) for **this** layer, but you can still use TensorFlow's [Neural Network](https://www.tensorflow.org/api_docs/python/tf/nn) package. You may still use the shortcut option for all the **other** layers."
   ]
  },
  {
   "cell_type": "code",
   "execution_count": 140,
   "metadata": {
    "ExecuteTime": {
     "end_time": "2017-08-06T04:35:40.288402Z",
     "start_time": "2017-08-06T04:35:40.263801Z"
    }
   },
   "outputs": [
    {
     "name": "stdout",
     "output_type": "stream",
     "text": [
      "Tests Passed\n"
     ]
    }
   ],
   "source": [
    "def conv2d_maxpool(x_tensor, conv_num_outputs, conv_ksize, conv_strides, pool_ksize, pool_strides, padding='SAME'):\n",
    "    \"\"\"\n",
    "    Apply convolution then max pooling to x_tensor\n",
    "    :param x_tensor: TensorFlow Tensor\n",
    "    :param conv_num_outputs: Number of outputs for the convolutional layer\n",
    "    :param conv_ksize: kernal size 2-D Tuple for the convolutional layer\n",
    "    :param conv_strides: Stride 2-D Tuple for convolution\n",
    "    :param pool_ksize: kernal size 2-D Tuple for pool\n",
    "    :param pool_strides: Stride 2-D Tuple for pool\n",
    "    : return: A tensor that represents convolution and max pooling of x_tensor\n",
    "    \"\"\"\n",
    "    # TODO: Implement Function\n",
    "    num_chanels = x_tensor.get_shape().as_list()[-1]\n",
    "    weights = tf.Variable(tf.truncated_normal([conv_ksize[0], conv_ksize[1],\n",
    "                                               num_chanels, conv_num_outputs], stddev=0.1))\n",
    "    bias = tf.Variable(tf.zeros([conv_num_outputs]))\n",
    "    \n",
    "    layer = tf.nn.conv2d(\n",
    "        x_tensor,\n",
    "        weights,\n",
    "        [1, conv_strides[0], conv_strides[1], 1],\n",
    "        padding\n",
    "    )\n",
    "    layer = tf.nn.bias_add(layer, bias)\n",
    "    layer = tf.nn.relu(layer)\n",
    "    return tf.nn.max_pool(\n",
    "        layer,\n",
    "        [1, pool_ksize[0], pool_ksize[1], 1],\n",
    "        [1, pool_strides[0], pool_strides[1], 1],\n",
    "        padding\n",
    "    )\n",
    "\n",
    "\n",
    "\"\"\"\n",
    "DON'T MODIFY ANYTHING IN THIS CELL THAT IS BELOW THIS LINE\n",
    "\"\"\"\n",
    "tests.test_con_pool(conv2d_maxpool)"
   ]
  },
  {
   "cell_type": "markdown",
   "metadata": {},
   "source": [
    "### Flatten Layer\n",
    "Implement the `flatten` function to change the dimension of `x_tensor` from a 4-D tensor to a 2-D tensor.  The output should be the shape (*Batch Size*, *Flattened Image Size*). Shortcut option: you can use classes from the [TensorFlow Layers](https://www.tensorflow.org/api_docs/python/tf/layers) or [TensorFlow Layers (contrib)](https://www.tensorflow.org/api_guides/python/contrib.layers) packages for this layer. For more of a challenge, only use other TensorFlow packages."
   ]
  },
  {
   "cell_type": "code",
   "execution_count": 141,
   "metadata": {
    "ExecuteTime": {
     "end_time": "2017-08-06T04:35:43.237799Z",
     "start_time": "2017-08-06T04:35:43.228774Z"
    }
   },
   "outputs": [
    {
     "name": "stdout",
     "output_type": "stream",
     "text": [
      "Tests Passed\n"
     ]
    }
   ],
   "source": [
    "def flatten(x_tensor):\n",
    "    \"\"\"\n",
    "    Flatten x_tensor to (Batch Size, Flattened Image Size)\n",
    "    : x_tensor: A tensor of size (Batch Size, ...), where ... are the image dimensions.\n",
    "    : return: A tensor of size (Batch Size, Flattened Image Size).\n",
    "    \"\"\"\n",
    "    # TODO: Implement Function\n",
    "    _, d2, d3, d4 = x_tensor.get_shape().as_list()\n",
    "    return tf.reshape(x_tensor, [-1, d2 * d3 * d4])\n",
    "\n",
    "\n",
    "\"\"\"\n",
    "DON'T MODIFY ANYTHING IN THIS CELL THAT IS BELOW THIS LINE\n",
    "\"\"\"\n",
    "tests.test_flatten(flatten)"
   ]
  },
  {
   "cell_type": "markdown",
   "metadata": {},
   "source": [
    "### Fully-Connected Layer\n",
    "Implement the `fully_conn` function to apply a fully connected layer to `x_tensor` with the shape (*Batch Size*, *num_outputs*). Shortcut option: you can use classes from the [TensorFlow Layers](https://www.tensorflow.org/api_docs/python/tf/layers) or [TensorFlow Layers (contrib)](https://www.tensorflow.org/api_guides/python/contrib.layers) packages for this layer. For more of a challenge, only use other TensorFlow packages."
   ]
  },
  {
   "cell_type": "code",
   "execution_count": 142,
   "metadata": {
    "ExecuteTime": {
     "end_time": "2017-08-06T04:35:44.604980Z",
     "start_time": "2017-08-06T04:35:44.593153Z"
    }
   },
   "outputs": [
    {
     "name": "stdout",
     "output_type": "stream",
     "text": [
      "Tests Passed\n"
     ]
    }
   ],
   "source": [
    "def fully_conn(x_tensor, num_outputs):\n",
    "    \"\"\"\n",
    "    Apply a fully connected layer to x_tensor using weight and bias\n",
    "    : x_tensor: A 2-D tensor where the first dimension is batch size.\n",
    "    : num_outputs: The number of output that the new tensor should be.\n",
    "    : return: A 2-D tensor where the second dimension is num_outputs.\n",
    "    \"\"\"\n",
    "    # TODO: Implement Function\n",
    "    weights = tf.Variable(tf.truncated_normal([x_tensor.get_shape().as_list()[1], num_outputs], stddev=0.1))\n",
    "    bias = tf.Variable(tf.zeros([num_outputs]))\n",
    "    \n",
    "    return tf.nn.relu(tf.add(tf.matmul(x_tensor, weights), bias))\n",
    "\n",
    "\n",
    "\"\"\"\n",
    "DON'T MODIFY ANYTHING IN THIS CELL THAT IS BELOW THIS LINE\n",
    "\"\"\"\n",
    "tests.test_fully_conn(fully_conn)"
   ]
  },
  {
   "cell_type": "markdown",
   "metadata": {},
   "source": [
    "### Output Layer\n",
    "Implement the `output` function to apply a fully connected layer to `x_tensor` with the shape (*Batch Size*, *num_outputs*). Shortcut option: you can use classes from the [TensorFlow Layers](https://www.tensorflow.org/api_docs/python/tf/layers) or [TensorFlow Layers (contrib)](https://www.tensorflow.org/api_guides/python/contrib.layers) packages for this layer. For more of a challenge, only use other TensorFlow packages.\n",
    "\n",
    "**Note:** Activation, softmax, or cross entropy should **not** be applied to this."
   ]
  },
  {
   "cell_type": "code",
   "execution_count": 143,
   "metadata": {
    "ExecuteTime": {
     "end_time": "2017-08-06T04:35:46.313601Z",
     "start_time": "2017-08-06T04:35:46.296561Z"
    }
   },
   "outputs": [
    {
     "name": "stdout",
     "output_type": "stream",
     "text": [
      "Tests Passed\n"
     ]
    }
   ],
   "source": [
    "def output(x_tensor, num_outputs):\n",
    "    \"\"\"\n",
    "    Apply a output layer to x_tensor using weight and bias\n",
    "    : x_tensor: A 2-D tensor where the first dimension is batch size.\n",
    "    : num_outputs: The number of output that the new tensor should be.\n",
    "    : return: A 2-D tensor where the second dimension is num_outputs.\n",
    "    \"\"\"\n",
    "    # TODO: Implement Function\n",
    "    weights = tf.Variable(tf.truncated_normal([x_tensor.get_shape().as_list()[1], num_outputs], stddev=0.1))\n",
    "    bias = tf.Variable(tf.zeros([num_outputs]))\n",
    "    \n",
    "    return tf.add(tf.matmul(x_tensor, weights), bias)\n",
    "\n",
    "\n",
    "\"\"\"\n",
    "DON'T MODIFY ANYTHING IN THIS CELL THAT IS BELOW THIS LINE\n",
    "\"\"\"\n",
    "tests.test_output(output)"
   ]
  },
  {
   "cell_type": "markdown",
   "metadata": {},
   "source": [
    "### Create Convolutional Model\n",
    "Implement the function `conv_net` to create a convolutional neural network model. The function takes in a batch of images, `x`, and outputs logits.  Use the layers you created above to create this model:\n",
    "\n",
    "* Apply 1, 2, or 3 Convolution and Max Pool layers\n",
    "* Apply a Flatten Layer\n",
    "* Apply 1, 2, or 3 Fully Connected Layers\n",
    "* Apply an Output Layer\n",
    "* Return the output\n",
    "* Apply [TensorFlow's Dropout](https://www.tensorflow.org/api_docs/python/tf/nn/dropout) to one or more layers in the model using `keep_prob`. "
   ]
  },
  {
   "cell_type": "code",
   "execution_count": 144,
   "metadata": {
    "ExecuteTime": {
     "end_time": "2017-08-06T04:35:48.312763Z",
     "start_time": "2017-08-06T04:35:48.088857Z"
    }
   },
   "outputs": [
    {
     "name": "stdout",
     "output_type": "stream",
     "text": [
      "Neural Network Built!\n"
     ]
    }
   ],
   "source": [
    "# LeNet5\n",
    "# def conv_net(x, keep_prob):\n",
    "#     \"\"\"\n",
    "#     Create a convolutional neural network model\n",
    "#     : x: Placeholder tensor that holds image data.\n",
    "#     : keep_prob: Placeholder tensor that hold dropout keep probability.\n",
    "#     : return: Tensor that represents logits\n",
    "#     \"\"\"\n",
    "#     # TODO: Apply 1, 2, or 3 Convolution and Max Pool layers\n",
    "#     #    Play around with different number of outputs, kernel size and stride\n",
    "#     # Function Definition from Above:\n",
    "#     #    conv2d_maxpool(x_tensor, conv_num_outputs, conv_ksize, conv_strides, pool_ksize, pool_strides)\n",
    "#     conv_1 = conv2d_maxpool(x, 6, [5, 5], [1, 1], [2, 2], [2, 2], 'VALID')\n",
    "#     conv_2 = conv2d_maxpool(conv_1, 16, [5, 5], [1, 1], [2, 2], [2, 2], 'VALID')\n",
    "\n",
    "#     # TODO: Apply a Flatten Layer\n",
    "#     # Function Definition from Above:\n",
    "#     #   flatten(x_tensor)\n",
    "#     layer = flatten(conv_2)\n",
    "    \n",
    "#     # TODO: Apply 1, 2, or 3 Fully Connected Layers\n",
    "#     #    Play around with different number of outputs\n",
    "#     # Function Definition from Above:\n",
    "#     #   fully_conn(x_tensor, num_outputs)\n",
    "#     fc_1 = fully_conn(layer, 120)    \n",
    "#     fc_2 = fully_conn(fc_1, 84)    \n",
    "    \n",
    "#     # TODO: Apply an Output Layer\n",
    "#     #    Set this to the number of classes\n",
    "#     # Function Definition from Above:\n",
    "#     #   output(x_tensor, num_outputs)\n",
    "#     layer = tf.nn.dropout(fc_2, keep_prob)\n",
    "    \n",
    "#     # TODO: return output\n",
    "#     return output(layer, 10)\n",
    "\n",
    "# SirajNet\n",
    "def conv_net(x, keep_prob):\n",
    "    \"\"\"\n",
    "    Create a convolutional neural network model\n",
    "    : x: Placeholder tensor that holds image data.\n",
    "    : keep_prob: Placeholder tensor that hold dropout keep probability.\n",
    "    : return: Tensor that represents logits\n",
    "    \"\"\"\n",
    "    # TODO: Apply 1, 2, or 3 Convolution and Max Pool layers\n",
    "    #    Play around with different number of outputs, kernel size and stride\n",
    "    # Function Definition from Above:\n",
    "    #    conv2d_maxpool(x_tensor, conv_num_outputs, conv_ksize, conv_strides, pool_ksize, pool_strides)\n",
    "    conv_1 = conv2d_maxpool(x, 32, [3, 3], [1, 1], [2, 2], [2, 2], 'VALID')\n",
    "    conv_2 = conv2d_maxpool(conv_1, 32, [3, 3], [1, 1], [2, 2], [2, 2], 'VALID')\n",
    "    conv_3 = conv2d_maxpool(conv_2, 64, [3, 3], [1, 1], [2, 2], [2, 2], 'VALID')\n",
    "    \n",
    "    # TODO: Apply a Flatten Layer\n",
    "    # Function Definition from Above:\n",
    "    #   flatten(x_tensor)\n",
    "    layer = flatten(conv_3)\n",
    "    \n",
    "    # TODO: Apply 1, 2, or 3 Fully Connected Layers\n",
    "    #    Play around with different number of outputs\n",
    "    # Function Definition from Above:\n",
    "    #   fully_conn(x_tensor, num_outputs)\n",
    "    fc = fully_conn(layer, 32)\n",
    "    \n",
    "    # TODO: Apply an Output Layer\n",
    "    #    Set this to the number of classes\n",
    "    # Function Definition from Above:\n",
    "    #   output(x_tensor, num_outputs)\n",
    "    layer = tf.nn.dropout(fc, keep_prob)\n",
    "    \n",
    "    # TODO: return output\n",
    "    return output(layer, 10)\n",
    "\n",
    "\n",
    "\"\"\"\n",
    "DON'T MODIFY ANYTHING IN THIS CELL THAT IS BELOW THIS LINE\n",
    "\"\"\"\n",
    "\n",
    "##############################\n",
    "## Build the Neural Network ##\n",
    "##############################\n",
    "\n",
    "# Remove previous weights, bias, inputs, etc..\n",
    "tf.reset_default_graph()\n",
    "\n",
    "# Inputs\n",
    "x = neural_net_image_input((32, 32, 3))\n",
    "y = neural_net_label_input(10)\n",
    "keep_prob = neural_net_keep_prob_input()\n",
    "\n",
    "# Model\n",
    "logits = conv_net(x, keep_prob)\n",
    "\n",
    "# Name logits Tensor, so that is can be loaded from disk after training\n",
    "logits = tf.identity(logits, name='logits')\n",
    "\n",
    "# Loss and Optimizer\n",
    "cost = tf.reduce_mean(tf.nn.softmax_cross_entropy_with_logits(logits=logits, labels=y))\n",
    "optimizer = tf.train.AdamOptimizer().minimize(cost)\n",
    "\n",
    "# Accuracy\n",
    "correct_pred = tf.equal(tf.argmax(logits, 1), tf.argmax(y, 1))\n",
    "accuracy = tf.reduce_mean(tf.cast(correct_pred, tf.float32), name='accuracy')\n",
    "\n",
    "tests.test_conv_net(conv_net)"
   ]
  },
  {
   "cell_type": "markdown",
   "metadata": {},
   "source": [
    "## Train the Neural Network\n",
    "### Single Optimization\n",
    "Implement the function `train_neural_network` to do a single optimization.  The optimization should use `optimizer` to optimize in `session` with a `feed_dict` of the following:\n",
    "* `x` for image input\n",
    "* `y` for labels\n",
    "* `keep_prob` for keep probability for dropout\n",
    "\n",
    "This function will be called for each batch, so `tf.global_variables_initializer()` has already been called.\n",
    "\n",
    "Note: Nothing needs to be returned. This function is only optimizing the neural network."
   ]
  },
  {
   "cell_type": "code",
   "execution_count": 145,
   "metadata": {
    "ExecuteTime": {
     "end_time": "2017-08-06T04:35:55.066415Z",
     "start_time": "2017-08-06T04:35:55.057004Z"
    }
   },
   "outputs": [
    {
     "name": "stdout",
     "output_type": "stream",
     "text": [
      "Tests Passed\n"
     ]
    }
   ],
   "source": [
    "def train_neural_network(session, optimizer, keep_probability, feature_batch, label_batch):\n",
    "    \"\"\"\n",
    "    Optimize the session on a batch of images and labels\n",
    "    : session: Current TensorFlow session\n",
    "    : optimizer: TensorFlow optimizer function\n",
    "    : keep_probability: keep probability\n",
    "    : feature_batch: Batch of Numpy image data\n",
    "    : label_batch: Batch of Numpy label data\n",
    "    \"\"\"\n",
    "    # TODO: Implement Function\n",
    "    session.run(optimizer, feed_dict={\n",
    "                    x: feature_batch,\n",
    "                    y: label_batch,\n",
    "                    keep_prob: keep_probability\n",
    "                })\n",
    "\n",
    "\n",
    "\"\"\"\n",
    "DON'T MODIFY ANYTHING IN THIS CELL THAT IS BELOW THIS LINE\n",
    "\"\"\"\n",
    "tests.test_train_nn(train_neural_network)"
   ]
  },
  {
   "cell_type": "markdown",
   "metadata": {},
   "source": [
    "### Show Stats\n",
    "Implement the function `print_stats` to print loss and validation accuracy.  Use the global variables `valid_features` and `valid_labels` to calculate validation accuracy.  Use a keep probability of `1.0` to calculate the loss and validation accuracy."
   ]
  },
  {
   "cell_type": "code",
   "execution_count": 146,
   "metadata": {
    "ExecuteTime": {
     "end_time": "2017-08-06T04:35:56.385701Z",
     "start_time": "2017-08-06T04:35:56.374665Z"
    },
    "collapsed": true
   },
   "outputs": [],
   "source": [
    "def calc_stats(session, feature_batch, label_batch, cost, accuracy):\n",
    "    \"\"\"\n",
    "    Print information about loss and validation accuracy\n",
    "    : session: Current TensorFlow session\n",
    "    : feature_batch: Batch of Numpy image data\n",
    "    : label_batch: Batch of Numpy label data\n",
    "    : cost: TensorFlow cost function\n",
    "    : accuracy: TensorFlow accuracy function\n",
    "    \"\"\"\n",
    "    loss = session.run(cost, feed_dict={\n",
    "                x: feature_batch,\n",
    "                y: label_batch,\n",
    "                keep_prob: 1.0})\n",
    "    \n",
    "    valid_acc = session.run(accuracy, feed_dict={\n",
    "                x: feature_batch,\n",
    "                y: label_batch,\n",
    "                keep_prob: 1.0})\n",
    "    \n",
    "    return loss, valid_acc\n",
    "\n",
    "def print_stats(session, feature_batch, label_batch, cost, accuracy):\n",
    "    \"\"\"\n",
    "    Print information about loss and validation accuracy\n",
    "    : session: Current TensorFlow session\n",
    "    : feature_batch: Batch of Numpy image data\n",
    "    : label_batch: Batch of Numpy label data\n",
    "    : cost: TensorFlow cost function\n",
    "    : accuracy: TensorFlow accuracy function\n",
    "    \"\"\"\n",
    "    # TODO: Implement Function\n",
    "    loss, valid_acc = calc_stats(session, feature_batch, label_batch, cost, accuracy)\n",
    "    \n",
    "    print('Loss: {:>10.4f} Validation Accuracy: {:.6f}'.format(\n",
    "                loss,\n",
    "                valid_acc))"
   ]
  },
  {
   "cell_type": "markdown",
   "metadata": {},
   "source": [
    "### Hyperparameters\n",
    "Tune the following parameters:\n",
    "* Set `epochs` to the number of iterations until the network stops learning or start overfitting\n",
    "* Set `batch_size` to the highest number that your machine has memory for.  Most people set them to common sizes of memory:\n",
    " * 64\n",
    " * 128\n",
    " * 256\n",
    " * ...\n",
    "* Set `keep_probability` to the probability of keeping a node using dropout"
   ]
  },
  {
   "cell_type": "code",
   "execution_count": 159,
   "metadata": {
    "ExecuteTime": {
     "end_time": "2017-08-06T04:54:33.555989Z",
     "start_time": "2017-08-06T04:54:33.553709Z"
    },
    "collapsed": true
   },
   "outputs": [],
   "source": [
    "# TODO: Tune Parameters\n",
    "epochs = 120\n",
    "batch_size = 128\n",
    "keep_probability = 0.8"
   ]
  },
  {
   "cell_type": "markdown",
   "metadata": {},
   "source": [
    "### Train on a Single CIFAR-10 Batch\n",
    "Instead of training the neural network on all the CIFAR-10 batches of data, let's use a single batch. This should save time while you iterate on the model to get a better accuracy.  Once the final validation accuracy is 50% or greater, run the model on all the data in the next section."
   ]
  },
  {
   "cell_type": "code",
   "execution_count": 154,
   "metadata": {
    "ExecuteTime": {
     "end_time": "2017-08-06T04:49:14.254562Z",
     "start_time": "2017-08-06T04:48:29.037472Z"
    },
    "scrolled": false
   },
   "outputs": [
    {
     "name": "stdout",
     "output_type": "stream",
     "text": [
      "Checking the Training on a Single Batch...\n",
      "Epoch  1, CIFAR-10 Batch 1:  Loss:     2.1135 Validation Accuracy: 0.225000\n",
      "Epoch  2, CIFAR-10 Batch 1:  Loss:     2.0141 Validation Accuracy: 0.300000\n",
      "Epoch  3, CIFAR-10 Batch 1:  Loss:     1.8862 Validation Accuracy: 0.400000\n",
      "Epoch  4, CIFAR-10 Batch 1:  Loss:     1.8022 Validation Accuracy: 0.450000\n",
      "Epoch  5, CIFAR-10 Batch 1:  Loss:     1.7215 Validation Accuracy: 0.500000\n",
      "Epoch  6, CIFAR-10 Batch 1:  Loss:     1.6611 Validation Accuracy: 0.500000\n",
      "Epoch  7, CIFAR-10 Batch 1:  Loss:     1.5813 Validation Accuracy: 0.525000\n",
      "Epoch  8, CIFAR-10 Batch 1:  Loss:     1.4966 Validation Accuracy: 0.550000\n",
      "Epoch  9, CIFAR-10 Batch 1:  Loss:     1.4061 Validation Accuracy: 0.625000\n",
      "Epoch 10, CIFAR-10 Batch 1:  Loss:     1.3772 Validation Accuracy: 0.675000\n",
      "Epoch 11, CIFAR-10 Batch 1:  Loss:     1.3158 Validation Accuracy: 0.625000\n",
      "Epoch 12, CIFAR-10 Batch 1:  Loss:     1.2596 Validation Accuracy: 0.675000\n",
      "Epoch 13, CIFAR-10 Batch 1:  Loss:     1.2194 Validation Accuracy: 0.650000\n",
      "Epoch 14, CIFAR-10 Batch 1:  Loss:     1.1728 Validation Accuracy: 0.650000\n",
      "Epoch 15, CIFAR-10 Batch 1:  Loss:     1.1303 Validation Accuracy: 0.650000\n",
      "Epoch 16, CIFAR-10 Batch 1:  Loss:     1.0874 Validation Accuracy: 0.650000\n",
      "Epoch 17, CIFAR-10 Batch 1:  Loss:     1.0522 Validation Accuracy: 0.675000\n",
      "Epoch 18, CIFAR-10 Batch 1:  Loss:     1.0165 Validation Accuracy: 0.700000\n",
      "Epoch 19, CIFAR-10 Batch 1:  Loss:     0.9504 Validation Accuracy: 0.725000\n",
      "Epoch 20, CIFAR-10 Batch 1:  Loss:     0.9398 Validation Accuracy: 0.775000\n",
      "Epoch 21, CIFAR-10 Batch 1:  Loss:     0.9125 Validation Accuracy: 0.725000\n",
      "Epoch 22, CIFAR-10 Batch 1:  Loss:     0.8790 Validation Accuracy: 0.775000\n",
      "Epoch 23, CIFAR-10 Batch 1:  Loss:     0.8642 Validation Accuracy: 0.750000\n",
      "Epoch 24, CIFAR-10 Batch 1:  Loss:     0.8211 Validation Accuracy: 0.825000\n",
      "Epoch 25, CIFAR-10 Batch 1:  Loss:     0.7813 Validation Accuracy: 0.800000\n",
      "Epoch 26, CIFAR-10 Batch 1:  Loss:     0.7645 Validation Accuracy: 0.775000\n",
      "Epoch 27, CIFAR-10 Batch 1:  Loss:     0.7211 Validation Accuracy: 0.800000\n",
      "Epoch 28, CIFAR-10 Batch 1:  Loss:     0.6828 Validation Accuracy: 0.800000\n",
      "Epoch 29, CIFAR-10 Batch 1:  Loss:     0.6512 Validation Accuracy: 0.850000\n",
      "Epoch 30, CIFAR-10 Batch 1:  Loss:     0.6700 Validation Accuracy: 0.750000\n",
      "Epoch 31, CIFAR-10 Batch 1:  Loss:     0.6287 Validation Accuracy: 0.825000\n",
      "Epoch 32, CIFAR-10 Batch 1:  Loss:     0.5882 Validation Accuracy: 0.800000\n",
      "Epoch 33, CIFAR-10 Batch 1:  Loss:     0.5741 Validation Accuracy: 0.850000\n",
      "Epoch 34, CIFAR-10 Batch 1:  Loss:     0.5621 Validation Accuracy: 0.800000\n",
      "Epoch 35, CIFAR-10 Batch 1:  Loss:     0.5460 Validation Accuracy: 0.800000\n",
      "Epoch 36, CIFAR-10 Batch 1:  Loss:     0.5277 Validation Accuracy: 0.825000\n",
      "Epoch 37, CIFAR-10 Batch 1:  Loss:     0.5069 Validation Accuracy: 0.825000\n",
      "Epoch 38, CIFAR-10 Batch 1:  Loss:     0.4878 Validation Accuracy: 0.875000\n",
      "Epoch 39, CIFAR-10 Batch 1:  Loss:     0.4475 Validation Accuracy: 0.850000\n",
      "Epoch 40, CIFAR-10 Batch 1:  Loss:     0.4582 Validation Accuracy: 0.875000\n",
      "Epoch 41, CIFAR-10 Batch 1:  Loss:     0.4286 Validation Accuracy: 0.875000\n",
      "Epoch 42, CIFAR-10 Batch 1:  Loss:     0.4184 Validation Accuracy: 0.800000\n",
      "Epoch 43, CIFAR-10 Batch 1:  Loss:     0.4131 Validation Accuracy: 0.825000\n",
      "Epoch 44, CIFAR-10 Batch 1:  Loss:     0.3881 Validation Accuracy: 0.850000\n",
      "Epoch 45, CIFAR-10 Batch 1:  Loss:     0.4120 Validation Accuracy: 0.850000\n",
      "Epoch 46, CIFAR-10 Batch 1:  Loss:     0.3722 Validation Accuracy: 0.875000\n",
      "Epoch 47, CIFAR-10 Batch 1:  Loss:     0.3947 Validation Accuracy: 0.825000\n",
      "Epoch 48, CIFAR-10 Batch 1:  Loss:     0.3738 Validation Accuracy: 0.875000\n",
      "Epoch 49, CIFAR-10 Batch 1:  Loss:     0.3596 Validation Accuracy: 0.900000\n",
      "Epoch 50, CIFAR-10 Batch 1:  Loss:     0.3688 Validation Accuracy: 0.875000\n",
      "Epoch 51, CIFAR-10 Batch 1:  Loss:     0.3436 Validation Accuracy: 0.900000\n",
      "Epoch 52, CIFAR-10 Batch 1:  Loss:     0.3010 Validation Accuracy: 0.925000\n",
      "Epoch 53, CIFAR-10 Batch 1:  Loss:     0.3362 Validation Accuracy: 0.900000\n",
      "Epoch 54, CIFAR-10 Batch 1:  Loss:     0.3173 Validation Accuracy: 0.950000\n",
      "Epoch 55, CIFAR-10 Batch 1:  Loss:     0.2581 Validation Accuracy: 0.950000\n",
      "Epoch 56, CIFAR-10 Batch 1:  Loss:     0.2587 Validation Accuracy: 0.975000\n",
      "Epoch 57, CIFAR-10 Batch 1:  Loss:     0.2395 Validation Accuracy: 0.975000\n",
      "Epoch 58, CIFAR-10 Batch 1:  Loss:     0.2379 Validation Accuracy: 1.000000\n",
      "Epoch 59, CIFAR-10 Batch 1:  Loss:     0.2292 Validation Accuracy: 0.975000\n",
      "Epoch 60, CIFAR-10 Batch 1:  Loss:     0.2559 Validation Accuracy: 0.950000\n",
      "Epoch 61, CIFAR-10 Batch 1:  Loss:     0.2097 Validation Accuracy: 1.000000\n",
      "Epoch 62, CIFAR-10 Batch 1:  Loss:     0.2417 Validation Accuracy: 0.925000\n",
      "Epoch 63, CIFAR-10 Batch 1:  Loss:     0.2011 Validation Accuracy: 1.000000\n",
      "Epoch 64, CIFAR-10 Batch 1:  Loss:     0.2078 Validation Accuracy: 0.975000\n",
      "Epoch 65, CIFAR-10 Batch 1:  Loss:     0.1824 Validation Accuracy: 1.000000\n",
      "Epoch 66, CIFAR-10 Batch 1:  Loss:     0.1913 Validation Accuracy: 0.975000\n",
      "Epoch 67, CIFAR-10 Batch 1:  Loss:     0.1890 Validation Accuracy: 0.975000\n",
      "Epoch 68, CIFAR-10 Batch 1:  Loss:     0.1643 Validation Accuracy: 1.000000\n",
      "Epoch 69, CIFAR-10 Batch 1:  Loss:     0.1602 Validation Accuracy: 1.000000\n",
      "Epoch 70, CIFAR-10 Batch 1:  Loss:     0.1815 Validation Accuracy: 1.000000\n",
      "Epoch 71, CIFAR-10 Batch 1:  Loss:     0.1793 Validation Accuracy: 1.000000\n",
      "Epoch 72, CIFAR-10 Batch 1:  Loss:     0.1732 Validation Accuracy: 0.975000\n",
      "Epoch 73, CIFAR-10 Batch 1:  Loss:     0.1803 Validation Accuracy: 0.975000\n",
      "Epoch 74, CIFAR-10 Batch 1:  Loss:     0.2072 Validation Accuracy: 0.950000\n",
      "Epoch 75, CIFAR-10 Batch 1:  Loss:     0.1420 Validation Accuracy: 0.975000\n",
      "Epoch 76, CIFAR-10 Batch 1:  Loss:     0.1488 Validation Accuracy: 1.000000\n",
      "Epoch 77, CIFAR-10 Batch 1:  Loss:     0.1557 Validation Accuracy: 0.975000\n",
      "Epoch 78, CIFAR-10 Batch 1:  Loss:     0.1709 Validation Accuracy: 1.000000\n",
      "Epoch 79, CIFAR-10 Batch 1:  Loss:     0.1870 Validation Accuracy: 0.950000\n",
      "Epoch 80, CIFAR-10 Batch 1:  Loss:     0.1511 Validation Accuracy: 1.000000\n",
      "Epoch 81, CIFAR-10 Batch 1:  Loss:     0.1594 Validation Accuracy: 0.975000\n",
      "Epoch 82, CIFAR-10 Batch 1:  Loss:     0.1582 Validation Accuracy: 1.000000\n",
      "Epoch 83, CIFAR-10 Batch 1:  Loss:     0.1235 Validation Accuracy: 1.000000\n",
      "Epoch 84, CIFAR-10 Batch 1:  Loss:     0.1435 Validation Accuracy: 1.000000\n",
      "Epoch 85, CIFAR-10 Batch 1:  Loss:     0.1058 Validation Accuracy: 1.000000\n",
      "Epoch 86, CIFAR-10 Batch 1:  Loss:     0.1181 Validation Accuracy: 1.000000\n",
      "Epoch 87, CIFAR-10 Batch 1:  Loss:     0.1078 Validation Accuracy: 1.000000\n",
      "Epoch 88, CIFAR-10 Batch 1:  Loss:     0.1052 Validation Accuracy: 1.000000\n",
      "Epoch 89, CIFAR-10 Batch 1:  Loss:     0.1027 Validation Accuracy: 1.000000\n",
      "Epoch 90, CIFAR-10 Batch 1:  Loss:     0.0950 Validation Accuracy: 1.000000\n",
      "Epoch 91, CIFAR-10 Batch 1:  Loss:     0.0943 Validation Accuracy: 1.000000\n",
      "Epoch 92, CIFAR-10 Batch 1:  Loss:     0.1027 Validation Accuracy: 1.000000\n",
      "Epoch 93, CIFAR-10 Batch 1:  Loss:     0.0882 Validation Accuracy: 1.000000\n",
      "Epoch 94, CIFAR-10 Batch 1:  Loss:     0.0889 Validation Accuracy: 1.000000\n",
      "Epoch 95, CIFAR-10 Batch 1:  Loss:     0.0910 Validation Accuracy: 1.000000\n",
      "Epoch 96, CIFAR-10 Batch 1:  Loss:     0.0875 Validation Accuracy: 1.000000\n",
      "Epoch 97, CIFAR-10 Batch 1:  Loss:     0.0869 Validation Accuracy: 1.000000\n",
      "Epoch 98, CIFAR-10 Batch 1:  Loss:     0.1102 Validation Accuracy: 1.000000\n",
      "Epoch 99, CIFAR-10 Batch 1:  Loss:     0.1476 Validation Accuracy: 0.975000\n",
      "Epoch 100, CIFAR-10 Batch 1:  Loss:     0.0897 Validation Accuracy: 1.000000\n"
     ]
    }
   ],
   "source": [
    "\"\"\"\n",
    "DON'T MODIFY ANYTHING IN THIS CELL\n",
    "\"\"\"\n",
    "print('Checking the Training on a Single Batch...')\n",
    "session_config = tf.ConfigProto(log_device_placement=True)\n",
    "with tf.Session(config=session_config) as sess:\n",
    "    # Initializing the variables\n",
    "    sess.run(tf.global_variables_initializer())\n",
    "    \n",
    "    # Training cycle\n",
    "    for epoch in range(epochs):\n",
    "        batch_i = 1\n",
    "        for batch_features, batch_labels in helper.load_preprocess_training_batch(batch_i, batch_size):\n",
    "            train_neural_network(sess, optimizer, keep_probability, batch_features, batch_labels)\n",
    "        print('Epoch {:>2}, CIFAR-10 Batch {}:  '.format(epoch + 1, batch_i), end='')\n",
    "        print_stats(sess, batch_features, batch_labels, cost, accuracy)"
   ]
  },
  {
   "cell_type": "markdown",
   "metadata": {},
   "source": [
    "### Fully Train the Model\n",
    "Now that you got a good accuracy with a single CIFAR-10 batch, try it with all five batches."
   ]
  },
  {
   "cell_type": "code",
   "execution_count": 160,
   "metadata": {
    "ExecuteTime": {
     "end_time": "2017-08-06T04:59:51.881873Z",
     "start_time": "2017-08-06T04:54:37.722562Z"
    },
    "scrolled": false
   },
   "outputs": [
    {
     "name": "stdout",
     "output_type": "stream",
     "text": [
      "Training...\n",
      "Epoch  1, Loss:     1.7893 Validation Accuracy: 0.330000\n",
      "Epoch  2, Loss:     1.5765 Validation Accuracy: 0.440000\n",
      "Epoch  3, Loss:     1.4257 Validation Accuracy: 0.475000\n",
      "Epoch  4, Loss:     1.2915 Validation Accuracy: 0.550000\n",
      "Epoch  5, Loss:     1.2138 Validation Accuracy: 0.565000\n",
      "Epoch  6, Loss:     1.1507 Validation Accuracy: 0.595000\n",
      "Epoch  7, Loss:     1.0869 Validation Accuracy: 0.600000\n",
      "Epoch  8, Loss:     1.0199 Validation Accuracy: 0.635000\n",
      "Epoch  9, Loss:     0.9588 Validation Accuracy: 0.615000\n",
      "Epoch 10, Loss:     0.9151 Validation Accuracy: 0.675000\n",
      "Epoch 11, Loss:     0.9017 Validation Accuracy: 0.675000\n",
      "Epoch 12, Loss:     0.8475 Validation Accuracy: 0.675000\n",
      "Epoch 13, Loss:     0.7820 Validation Accuracy: 0.720000\n",
      "Epoch 14, Loss:     0.7706 Validation Accuracy: 0.720000\n",
      "Epoch 15, Loss:     0.7199 Validation Accuracy: 0.755000\n",
      "Epoch 16, Loss:     0.6824 Validation Accuracy: 0.785000\n",
      "Epoch 17, Loss:     0.6420 Validation Accuracy: 0.780000\n",
      "Epoch 18, Loss:     0.6177 Validation Accuracy: 0.810000\n",
      "Epoch 19, Loss:     0.5963 Validation Accuracy: 0.810000\n",
      "Epoch 20, Loss:     0.5697 Validation Accuracy: 0.810000\n",
      "Epoch 21, Loss:     0.5541 Validation Accuracy: 0.835000\n",
      "Epoch 22, Loss:     0.5314 Validation Accuracy: 0.845000\n",
      "Epoch 23, Loss:     0.5251 Validation Accuracy: 0.845000\n",
      "Epoch 24, Loss:     0.5112 Validation Accuracy: 0.855000\n",
      "Epoch 25, Loss:     0.4980 Validation Accuracy: 0.870000\n",
      "Epoch 26, Loss:     0.4813 Validation Accuracy: 0.855000\n",
      "Epoch 27, Loss:     0.4632 Validation Accuracy: 0.890000\n",
      "Epoch 28, Loss:     0.4475 Validation Accuracy: 0.865000\n",
      "Epoch 29, Loss:     0.4383 Validation Accuracy: 0.885000\n",
      "Epoch 30, Loss:     0.4140 Validation Accuracy: 0.895000\n",
      "Epoch 31, Loss:     0.4062 Validation Accuracy: 0.895000\n",
      "Epoch 32, Loss:     0.3989 Validation Accuracy: 0.890000\n",
      "Epoch 33, Loss:     0.3689 Validation Accuracy: 0.915000\n",
      "Epoch 34, Loss:     0.3639 Validation Accuracy: 0.930000\n",
      "Epoch 35, Loss:     0.3516 Validation Accuracy: 0.905000\n",
      "Epoch 36, Loss:     0.3393 Validation Accuracy: 0.935000\n",
      "Epoch 37, Loss:     0.3470 Validation Accuracy: 0.905000\n",
      "Epoch 38, Loss:     0.3287 Validation Accuracy: 0.920000\n",
      "Epoch 39, Loss:     0.3087 Validation Accuracy: 0.915000\n",
      "Epoch 40, Loss:     0.3089 Validation Accuracy: 0.920000\n",
      "Epoch 41, Loss:     0.3081 Validation Accuracy: 0.915000\n",
      "Epoch 42, Loss:     0.3253 Validation Accuracy: 0.910000\n",
      "Epoch 43, Loss:     0.3328 Validation Accuracy: 0.915000\n",
      "Epoch 44, Loss:     0.3023 Validation Accuracy: 0.920000\n",
      "Epoch 45, Loss:     0.3028 Validation Accuracy: 0.900000\n",
      "Epoch 46, Loss:     0.2937 Validation Accuracy: 0.925000\n",
      "Epoch 47, Loss:     0.2819 Validation Accuracy: 0.930000\n",
      "Epoch 48, Loss:     0.2796 Validation Accuracy: 0.940000\n",
      "Epoch 49, Loss:     0.2790 Validation Accuracy: 0.910000\n",
      "Epoch 50, Loss:     0.2737 Validation Accuracy: 0.930000\n",
      "Epoch 51, Loss:     0.2597 Validation Accuracy: 0.935000\n",
      "Epoch 52, Loss:     0.2487 Validation Accuracy: 0.955000\n",
      "Epoch 53, Loss:     0.2376 Validation Accuracy: 0.965000\n",
      "Epoch 54, Loss:     0.2308 Validation Accuracy: 0.960000\n",
      "Epoch 55, Loss:     0.2424 Validation Accuracy: 0.955000\n",
      "Epoch 56, Loss:     0.2491 Validation Accuracy: 0.945000\n",
      "Epoch 57, Loss:     0.2501 Validation Accuracy: 0.940000\n",
      "Epoch 58, Loss:     0.2424 Validation Accuracy: 0.950000\n",
      "Epoch 59, Loss:     0.2278 Validation Accuracy: 0.965000\n",
      "Epoch 60, Loss:     0.2262 Validation Accuracy: 0.960000\n",
      "Epoch 61, Loss:     0.2303 Validation Accuracy: 0.965000\n",
      "Epoch 62, Loss:     0.2220 Validation Accuracy: 0.955000\n",
      "Epoch 63, Loss:     0.2093 Validation Accuracy: 0.960000\n",
      "Epoch 64, Loss:     0.2330 Validation Accuracy: 0.950000\n",
      "Epoch 65, Loss:     0.2300 Validation Accuracy: 0.935000\n",
      "Epoch 66, Loss:     0.2264 Validation Accuracy: 0.960000\n",
      "Epoch 67, Loss:     0.2145 Validation Accuracy: 0.960000\n",
      "Epoch 68, Loss:     0.2094 Validation Accuracy: 0.960000\n",
      "Epoch 69, Loss:     0.2132 Validation Accuracy: 0.955000\n",
      "Epoch 70, Loss:     0.1958 Validation Accuracy: 0.960000\n",
      "Epoch 71, Loss:     0.2098 Validation Accuracy: 0.950000\n",
      "Epoch 72, Loss:     0.1918 Validation Accuracy: 0.955000\n",
      "Epoch 73, Loss:     0.1961 Validation Accuracy: 0.970000\n",
      "Epoch 74, Loss:     0.1934 Validation Accuracy: 0.960000\n",
      "Epoch 75, Loss:     0.1798 Validation Accuracy: 0.975000\n",
      "Epoch 76, Loss:     0.1828 Validation Accuracy: 0.975000\n",
      "Epoch 77, Loss:     0.1781 Validation Accuracy: 0.970000\n",
      "Epoch 78, Loss:     0.1807 Validation Accuracy: 0.980000\n",
      "Epoch 79, Loss:     0.1794 Validation Accuracy: 0.980000\n",
      "Epoch 80, Loss:     0.1913 Validation Accuracy: 0.970000\n",
      "Epoch 81, Loss:     0.1851 Validation Accuracy: 0.980000\n",
      "Epoch 82, Loss:     0.1683 Validation Accuracy: 0.980000\n",
      "Epoch 83, Loss:     0.1850 Validation Accuracy: 0.975000\n",
      "Epoch 84, Loss:     0.1755 Validation Accuracy: 0.970000\n",
      "Epoch 85, Loss:     0.1588 Validation Accuracy: 0.970000\n",
      "Epoch 86, Loss:     0.1728 Validation Accuracy: 0.965000\n",
      "Epoch 87, Loss:     0.1618 Validation Accuracy: 0.975000\n",
      "Epoch 88, Loss:     0.1669 Validation Accuracy: 0.965000\n",
      "Epoch 89, Loss:     0.1518 Validation Accuracy: 0.995000\n",
      "Epoch 90, Loss:     0.1509 Validation Accuracy: 0.980000\n",
      "Epoch 91, Loss:     0.1650 Validation Accuracy: 0.965000\n",
      "Epoch 92, Loss:     0.1616 Validation Accuracy: 0.970000\n",
      "Epoch 93, Loss:     0.1574 Validation Accuracy: 0.985000\n",
      "Epoch 94, Loss:     0.1587 Validation Accuracy: 0.980000\n",
      "Epoch 95, Loss:     0.1589 Validation Accuracy: 0.970000\n",
      "Epoch 96, Loss:     0.1559 Validation Accuracy: 0.980000\n",
      "Epoch 97, Loss:     0.1507 Validation Accuracy: 0.970000\n",
      "Epoch 98, Loss:     0.1388 Validation Accuracy: 0.975000\n",
      "Epoch 99, Loss:     0.1420 Validation Accuracy: 0.975000\n",
      "Epoch 100, Loss:     0.1674 Validation Accuracy: 0.965000\n",
      "Epoch 101, Loss:     0.1430 Validation Accuracy: 0.960000\n",
      "Epoch 102, Loss:     0.1495 Validation Accuracy: 0.975000\n",
      "Epoch 103, Loss:     0.1378 Validation Accuracy: 0.985000\n",
      "Epoch 104, Loss:     0.1465 Validation Accuracy: 0.970000\n",
      "Epoch 105, Loss:     0.1387 Validation Accuracy: 0.980000\n",
      "Epoch 106, Loss:     0.1509 Validation Accuracy: 0.980000\n",
      "Epoch 107, Loss:     0.1444 Validation Accuracy: 0.975000\n",
      "Epoch 108, Loss:     0.1369 Validation Accuracy: 0.975000\n",
      "Epoch 109, Loss:     0.1385 Validation Accuracy: 0.985000\n",
      "Epoch 110, Loss:     0.1379 Validation Accuracy: 0.985000\n",
      "Epoch 111, Loss:     0.1378 Validation Accuracy: 0.980000\n",
      "Epoch 112, Loss:     0.1427 Validation Accuracy: 0.980000\n",
      "Epoch 113, Loss:     0.1377 Validation Accuracy: 0.985000\n",
      "Epoch 114, Loss:     0.1312 Validation Accuracy: 0.990000\n",
      "Epoch 115, Loss:     0.1366 Validation Accuracy: 0.980000\n",
      "Epoch 116, Loss:     0.1328 Validation Accuracy: 0.970000\n",
      "Epoch 117, Loss:     0.1304 Validation Accuracy: 0.975000\n",
      "Epoch 118, Loss:     0.1281 Validation Accuracy: 0.985000\n",
      "Epoch 119, Loss:     0.1341 Validation Accuracy: 0.975000\n",
      "Epoch 120, Loss:     0.1240 Validation Accuracy: 0.985000\n"
     ]
    }
   ],
   "source": [
    "\"\"\"\n",
    "DON'T MODIFY ANYTHING IN THIS CELL\n",
    "\"\"\"\n",
    "save_model_path = './image_classification'\n",
    "best_val_acc = 0\n",
    "best_loss = 1e6\n",
    "\n",
    "print('Training...')\n",
    "with tf.Session() as sess:\n",
    "    # Initializing the variables\n",
    "    sess.run(tf.global_variables_initializer())\n",
    "    \n",
    "    # Training cycle\n",
    "    for epoch in range(epochs):\n",
    "        batch_loss = []\n",
    "        batch_val_acc = []\n",
    "        # Loop over all batches\n",
    "        n_batches = 5\n",
    "        for batch_i in range(1, n_batches + 1):\n",
    "            for batch_features, batch_labels in helper.load_preprocess_training_batch(batch_i, batch_size):\n",
    "                train_neural_network(sess, optimizer, keep_probability, batch_features, batch_labels)\n",
    "            # print('Epoch {:>2}, CIFAR-10 Batch {}:  '.format(epoch + 1, batch_i), end='')\n",
    "            # print_stats(sess, batch_features, batch_labels, cost, accuracy)\n",
    "            loss, val_acc = calc_stats(sess, batch_features, batch_labels, cost, accuracy)\n",
    "            batch_loss.append(loss)\n",
    "            batch_val_acc.append(val_acc)\n",
    "        \n",
    "        epoch_loss, epoch_val_acc = np.mean(batch_loss), np.mean(batch_val_acc)\n",
    "        print('Epoch {:>2}, Loss: {:>10.4f} Validation Accuracy: {:.6f}'.format(epoch + 1,\n",
    "                                                                                epoch_loss,\n",
    "                                                                                epoch_val_acc))\n",
    "        if epoch_val_acc >= best_val_acc and epoch_loss < best_loss:\n",
    "            saver = tf.train.Saver()\n",
    "            save_path = saver.save(sess, save_model_path)\n",
    "            \n",
    "            best_val_acc, best_loss = epoch_val_acc, epoch_loss"
   ]
  },
  {
   "cell_type": "markdown",
   "metadata": {},
   "source": [
    "# Checkpoint\n",
    "The model has been saved to disk.\n",
    "## Test Model\n",
    "Test your model against the test dataset.  This will be your final accuracy. You should have an accuracy greater than 50%. If you don't, keep tweaking the model architecture and parameters."
   ]
  },
  {
   "cell_type": "code",
   "execution_count": 161,
   "metadata": {
    "ExecuteTime": {
     "end_time": "2017-08-06T05:00:08.531100Z",
     "start_time": "2017-08-06T04:59:59.824905Z"
    }
   },
   "outputs": [
    {
     "name": "stdout",
     "output_type": "stream",
     "text": [
      "INFO:tensorflow:Restoring parameters from ./image_classification\n",
      "Testing Accuracy: 0.6650514240506329\n",
      "\n"
     ]
    },
    {
     "data": {
      "image/png": "[encoded data removed]",
      "text/plain": [
       "<matplotlib.figure.Figure at 0x7f793e361f98>"
      ]
     },
     "metadata": {
      "image/png": {
       "height": 319,
       "width": 355
      }
     },
     "output_type": "display_data"
    }
   ],
   "source": [
    "\"\"\"\n",
    "DON'T MODIFY ANYTHING IN THIS CELL\n",
    "\"\"\"\n",
    "%matplotlib inline\n",
    "%config InlineBackend.figure_format = 'retina'\n",
    "\n",
    "import tensorflow as tf\n",
    "import pickle\n",
    "import helper\n",
    "import random\n",
    "\n",
    "# Set batch size if not already set\n",
    "try:\n",
    "    if batch_size:\n",
    "        pass\n",
    "except NameError:\n",
    "    batch_size = 64\n",
    "\n",
    "save_model_path = './image_classification'\n",
    "n_samples = 4\n",
    "top_n_predictions = 3\n",
    "\n",
    "def test_model():\n",
    "    \"\"\"\n",
    "    Test the saved model against the test dataset\n",
    "    \"\"\"\n",
    "\n",
    "    test_features, test_labels = pickle.load(open('preprocess_test.p', mode='rb'))\n",
    "    loaded_graph = tf.Graph()\n",
    "\n",
    "    with tf.Session(graph=loaded_graph) as sess:\n",
    "        # Load model\n",
    "        loader = tf.train.import_meta_graph(save_model_path + '.meta')\n",
    "        loader.restore(sess, save_model_path)\n",
    "\n",
    "        # Get Tensors from loaded model\n",
    "        loaded_x = loaded_graph.get_tensor_by_name('x:0')\n",
    "        loaded_y = loaded_graph.get_tensor_by_name('y:0')\n",
    "        loaded_keep_prob = loaded_graph.get_tensor_by_name('keep_prob:0')\n",
    "        loaded_logits = loaded_graph.get_tensor_by_name('logits:0')\n",
    "        loaded_acc = loaded_graph.get_tensor_by_name('accuracy:0')\n",
    "        \n",
    "        # Get accuracy in batches for memory limitations\n",
    "        test_batch_acc_total = 0\n",
    "        test_batch_count = 0\n",
    "        \n",
    "        for test_feature_batch, test_label_batch in helper.batch_features_labels(test_features, test_labels, batch_size):\n",
    "            test_batch_acc_total += sess.run(\n",
    "                loaded_acc,\n",
    "                feed_dict={loaded_x: test_feature_batch, loaded_y: test_label_batch, loaded_keep_prob: 1.0})\n",
    "            test_batch_count += 1\n",
    "\n",
    "        print('Testing Accuracy: {}\\n'.format(test_batch_acc_total/test_batch_count))\n",
    "\n",
    "        # Print Random Samples\n",
    "        random_test_features, random_test_labels = tuple(zip(*random.sample(list(zip(test_features, test_labels)), n_samples)))\n",
    "        random_test_predictions = sess.run(\n",
    "            tf.nn.top_k(tf.nn.softmax(loaded_logits), top_n_predictions),\n",
    "            feed_dict={loaded_x: random_test_features, loaded_y: random_test_labels, loaded_keep_prob: 1.0})\n",
    "        helper.display_image_predictions(random_test_features, random_test_labels, random_test_predictions)\n",
    "\n",
    "\n",
    "test_model()"
   ]
  },
  {
   "cell_type": "markdown",
   "metadata": {},
   "source": [
    "## Why 50-80% Accuracy?\n",
    "You might be wondering why you can't get an accuracy any higher. First things first, 50% isn't bad for a simple CNN.  Pure guessing would get you 10% accuracy. However, you might notice people are getting scores [well above 80%](http://rodrigob.github.io/are_we_there_yet/build/classification_datasets_results.html#43494641522d3130).  That's because we haven't taught you all there is to know about neural networks. We still need to cover a few more techniques.\n",
    "## Submitting This Project\n",
    "When submitting this project, make sure to run all the cells before saving the notebook.  Save the notebook file as \"dlnd_image_classification.ipynb\" and save it as a HTML file under \"File\" -> \"Download as\".  Include the \"helper.py\" and \"problem_unittests.py\" files in your submission."
   ]
  }
 ],
 "metadata": {
  "kernelspec": {
   "display_name": "Python 3",
   "language": "python",
   "name": "python3"
  },
  "language_info": {
   "codemirror_mode": {
    "name": "ipython",
    "version": 3
   },
   "file_extension": ".py",
   "mimetype": "text/x-python",
   "name": "python",
   "nbconvert_exporter": "python",
   "pygments_lexer": "ipython3",
   "version": "3.5.2"
  }
 },
 "nbformat": 4,
 "nbformat_minor": 1
}
